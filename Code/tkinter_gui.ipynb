#DONE BY - M A Samid Arsalan
#RA1911030010004
import tkinter as tk
from tkinter import messagebox
